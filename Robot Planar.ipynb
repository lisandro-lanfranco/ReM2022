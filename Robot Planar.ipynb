{
 "cells": [
  {
   "cell_type": "markdown",
   "id": "b9aef195",
   "metadata": {},
   "source": [
    "# Universidad Nacional de Córdoba\n",
    "## Laboratorio de Animatrónica y Control Dinámico  \n",
    "\n",
    "### Robot Planar\n",
    "\n",
    "Vamos a utilizar la librería Robotics Toolbox para Python para:\n",
    "\n",
    "* Definir el robot con parámetros DH\n",
    "* Dibujar el robot en una posición determinada (Cinemática Directa)\n",
    "* Calcular la configuración de articulaciones para un punto dado (Cinemática inversa)\n",
    "* Generar una trayectoría entre dos puntos y animar el robot"
   ]
  },
  {
   "cell_type": "code",
   "execution_count": null,
   "id": "2998d563",
   "metadata": {},
   "outputs": [],
   "source": [
    "# Importamos todas las librerías necesarias\n",
    "import roboticstoolbox as rtb\n",
    "import spatialmath as sm\n",
    "import numpy as np\n",
    "\n",
    "%matplotlib notebook"
   ]
  },
  {
   "cell_type": "markdown",
   "id": "c61e1bf9",
   "metadata": {},
   "source": [
    "Definimos el robot con parámetros de DH"
   ]
  },
  {
   "cell_type": "code",
   "execution_count": null,
   "id": "2b1c377a",
   "metadata": {},
   "outputs": [],
   "source": [
    "# link 1\n",
    "l1 = 1\n",
    "\n",
    "# link 2\n",
    "l2 = 0.8\n",
    "\n",
    "robplanar = rtb.DHRobot(\n",
    "    [\n",
    "        rtb.RevoluteDH(a=l1),\n",
    "        rtb.RevoluteDH(a=l2),\n",
    "    ], name=\"robplanar\")\n",
    "\n",
    "print(robplanar)"
   ]
  },
  {
   "cell_type": "code",
   "execution_count": null,
   "id": "d29b059e",
   "metadata": {},
   "outputs": [],
   "source": [
    "# Configuraciones típicas\n",
    "q1 = [0, 0]        # o-o- Brazohorizontal\n",
    "q2 = [0, np.pi/2]    # o-o| \n",
    "q3 = [np.pi/2, 0]    # o|o| Brazo vertical\n",
    "q4 = [np.pi/2, -np.pi/2] # o|o- \n",
    "qq = [q1, q2, q3, q4]"
   ]
  },
  {
   "cell_type": "markdown",
   "id": "cc43585f",
   "metadata": {},
   "source": [
    "Dibujamos el robot en la posición q2"
   ]
  },
  {
   "cell_type": "code",
   "execution_count": null,
   "id": "cf18db49",
   "metadata": {},
   "outputs": [],
   "source": [
    "robplanar.plot(q2, limits=[-0.5,2,-0.5,2,0,1])"
   ]
  },
  {
   "cell_type": "markdown",
   "id": "2df9ff6a",
   "metadata": {},
   "source": [
    "Calculamos la cinematica inversa para el punto x=1 y =1.5"
   ]
  },
  {
   "cell_type": "code",
   "execution_count": null,
   "id": "6d687d6a",
   "metadata": {
    "scrolled": true
   },
   "outputs": [],
   "source": [
    "P2 = sm.SE3(0.8, 1.5, 0) # Definimos la matriz a partir del punto deseado\n",
    "qP2, *_ = robplanar.ikine_LM(P2)\n",
    "robplanar.plot(qP2, limits=[-0.5,2,-0.5,2,0,1])"
   ]
  },
  {
   "cell_type": "markdown",
   "id": "7d68f77a",
   "metadata": {},
   "source": [
    "Generamos una trayectoría entre la configuración q1 y el punto calculado qP2 con 100 pasos"
   ]
  },
  {
   "cell_type": "code",
   "execution_count": null,
   "id": "36eea5b7",
   "metadata": {},
   "outputs": [],
   "source": [
    "traj = rtb.jtraj(q1, qP2, 100)\n",
    "traj"
   ]
  },
  {
   "cell_type": "markdown",
   "id": "40dfae80",
   "metadata": {},
   "source": [
    "Animamos la trayectoría generada con el robot y lo guardamos en un archivo llamado \"planar.gif\""
   ]
  },
  {
   "cell_type": "code",
   "execution_count": null,
   "id": "9f891121",
   "metadata": {},
   "outputs": [],
   "source": [
    "robplanar.plot(traj.q, dt=0.01, limits=[-0.5,2,-0.5,2,0,1], movie=\"planar.gif\")"
   ]
  },
  {
   "cell_type": "markdown",
   "id": "46830745",
   "metadata": {},
   "source": [
    "Ing. Esp. Hugo N. Pailos  \n",
    "Ing. Lisandro Lanfranco"
   ]
  },
  {
   "cell_type": "code",
   "execution_count": null,
   "id": "f0a41486",
   "metadata": {},
   "outputs": [],
   "source": []
  }
 ],
 "metadata": {
  "kernelspec": {
   "display_name": "Python 3 (ipykernel)",
   "language": "python",
   "name": "python3"
  },
  "language_info": {
   "codemirror_mode": {
    "name": "ipython",
    "version": 3
   },
   "file_extension": ".py",
   "mimetype": "text/x-python",
   "name": "python",
   "nbconvert_exporter": "python",
   "pygments_lexer": "ipython3",
   "version": "3.8.10"
  }
 },
 "nbformat": 4,
 "nbformat_minor": 5
}
